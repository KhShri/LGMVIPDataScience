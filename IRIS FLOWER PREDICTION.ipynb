{
 "cells": [
  {
   "cell_type": "code",
   "execution_count": null,
   "id": "d6af433b",
   "metadata": {},
   "outputs": [],
   "source": [
    "import pandas as pd\n",
    "import numpy as np\n",
    "from tkinter import*\n",
    "from sklearn.tree import DecisionTreeClassifier"
   ]
  },
  {
   "cell_type": "code",
   "execution_count": null,
   "id": "b1a50c9e",
   "metadata": {},
   "outputs": [],
   "source": [
    "import os\n",
    "os.chdir(\"C:\\\\Users\\\\kumar\\\\OneDrive\\\\Desktop\\\\Machine Learning\")\n",
    "df=pd.read_csv(\"iris (1).csv\")\n",
    "df"
   ]
  },
  {
   "cell_type": "code",
   "execution_count": null,
   "id": "d0248a29",
   "metadata": {},
   "outputs": [],
   "source": [
    "root=Tk()\n",
    "root.title(\"IRIS Flower Prediction\")"
   ]
  },
  {
   "cell_type": "code",
   "execution_count": null,
   "id": "55b7c3e9",
   "metadata": {},
   "outputs": [],
   "source": [
    "print(root)"
   ]
  },
  {
   "cell_type": "code",
   "execution_count": null,
   "id": "3da54610",
   "metadata": {},
   "outputs": [],
   "source": [
    "Label(root,text=\"sepal_length\",font=\"Times 15\").grid(row=0,column=0,padx=50,pady=10)\n",
    "Label(root,text=\"sepal_width\",font=\"Times 15\").grid(row=1,column=0,pady=10)\n",
    "Label(root,text=\"petal_length\",font=\"Times 15\").grid(row=2,column=0,pady=10)\n",
    "Label(root,text=\"petal_length\",font=\"Times 15\").grid(row=3,column=0,pady=10)\n",
    "Label(root,text=\"Prediction\",font=\"Times 20\").grid(row=5,column=0,pady=10)\n"
   ]
  },
  {
   "cell_type": "code",
   "execution_count": null,
   "id": "3895f32d",
   "metadata": {},
   "outputs": [],
   "source": [
    "textbox=Text(root,height=3,width=20)\n",
    "textbox.grid(row=5,column=1)"
   ]
  },
  {
   "cell_type": "code",
   "execution_count": null,
   "id": "e30e2a0e",
   "metadata": {},
   "outputs": [],
   "source": [
    "input_text=StringVar()\n",
    "input_text1=StringVar()\n",
    "input_text2=StringVar()\n",
    "input_text3=StringVar()\n",
    "result=StringVar()"
   ]
  },
  {
   "cell_type": "code",
   "execution_count": null,
   "id": "c72ce66e",
   "metadata": {},
   "outputs": [],
   "source": [
    "e1=Entry(root,font=1,textvariable=input_text)\n",
    "e1.grid(row=0,column=1)\n",
    "e2=Entry(root,font=1,textvariable=input_text1)\n",
    "e2.grid(row=1,column=1)\n",
    "e3=Entry(root,font=1,textvariable=input_text2)\n",
    "e3.grid(row=2,column=1)\n",
    "e4=Entry(root,font=1,textvariable=input_text3)\n",
    "e4.grid(row=3,column=1)\n"
   ]
  },
  {
   "cell_type": "code",
   "execution_count": null,
   "id": "c74e5d44",
   "metadata": {},
   "outputs": [],
   "source": [
    "def entryClear():\n",
    "    input_text.set(\"\")\n",
    "    input_text1.set(\"\")\n",
    "    input_text2.set(\"\")\n",
    "    input_text3.set(\"\")\n",
    "    result.set(\"\")\n",
    "    textbox.delete(1.0,END)"
   ]
  },
  {
   "cell_type": "code",
   "execution_count": null,
   "id": "a8e12543",
   "metadata": {},
   "outputs": [],
   "source": [
    "def getpredict():\n",
    "    lst = [float(e1.get()), float(e2.get()), float(e3.get()), float(e4.get())]\n",
    "    eg = np.array(lst).reshape(1, -1)\n",
    "    \n",
    "    x = df.iloc[:, :4].values\n",
    "    y = df.iloc[:, 4:5].values\n",
    "    \n",
    "    model = DecisionTreeClassifier()\n",
    "    model.fit(x, y)\n",
    "    \n",
    "    predict = model.predict(eg)\n",
    "    textbox.insert(END, predict)"
   ]
  },
  {
   "cell_type": "code",
   "execution_count": null,
   "id": "cf59223b",
   "metadata": {},
   "outputs": [],
   "source": [
    "Button(root,text='Clear',font=10,width=8,bg=\"#9B0000\",fg=\"white\",command=entryClear).grid(row=4,column=0,pady=10)\n",
    "Button(root,text='Predict',font=10,width=8,bg=\"#39FD03\",fg=\"white\",command=getpredict).grid(row=4,column=1,pady=10)\n",
    "root.mainloop()"
   ]
  }
 ],
 "metadata": {
  "kernelspec": {
   "display_name": "Python 3 (ipykernel)",
   "language": "python",
   "name": "python3"
  },
  "language_info": {
   "codemirror_mode": {
    "name": "ipython",
    "version": 3
   },
   "file_extension": ".py",
   "mimetype": "text/x-python",
   "name": "python",
   "nbconvert_exporter": "python",
   "pygments_lexer": "ipython3",
   "version": "3.9.13"
  }
 },
 "nbformat": 4,
 "nbformat_minor": 5
}
